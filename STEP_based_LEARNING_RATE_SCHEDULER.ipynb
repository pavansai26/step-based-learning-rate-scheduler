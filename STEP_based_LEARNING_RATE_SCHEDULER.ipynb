{
  "nbformat": 4,
  "nbformat_minor": 0,
  "metadata": {
    "colab": {
      "name": "STEP based LEARNING RATE SCHEDULER.ipynb",
      "provenance": [],
      "private_outputs": true,
      "authorship_tag": "ABX9TyOCIhyPmURS0l0TtQIrT+L1",
      "include_colab_link": true
    },
    "kernelspec": {
      "name": "python3",
      "display_name": "Python 3"
    }
  },
  "cells": [
    {
      "cell_type": "markdown",
      "metadata": {
        "id": "view-in-github",
        "colab_type": "text"
      },
      "source": [
        "<a href=\"https://colab.research.google.com/github/pavansai26/step-based-learning-rate-scheduler/blob/master/STEP_based_LEARNING_RATE_SCHEDULER.ipynb\" target=\"_parent\"><img src=\"https://colab.research.google.com/assets/colab-badge.svg\" alt=\"Open In Colab\"/></a>"
      ]
    },
    {
      "cell_type": "code",
      "metadata": {
        "id": "rpDxGG6gayK-",
        "colab_type": "code",
        "colab": {}
      },
      "source": [
        "import numpy as np\n",
        "import matplotlib.pyplot as plt"
      ],
      "execution_count": null,
      "outputs": []
    },
    {
      "cell_type": "markdown",
      "metadata": {
        "id": "KGwwAZwmyBoc",
        "colab_type": "text"
      },
      "source": [
        "# **how step based learning rate scheduler works**"
      ]
    },
    {
      "cell_type": "markdown",
      "metadata": {
        "id": "4RjOu0GMyMdB",
        "colab_type": "text"
      },
      "source": [
        "# **why it is called step based learning rate scheduler?**"
      ]
    },
    {
      "cell_type": "markdown",
      "metadata": {
        "id": "BI-UNzX3ff5a",
        "colab_type": "text"
      },
      "source": [
        "FORMULA"
      ]
    },
    {
      "cell_type": "markdown",
      "metadata": {
        "id": "jp0GbREzf2bI",
        "colab_type": "text"
      },
      "source": [
        "$\\eta_{E + 1}$= $\\eta_{I}$ * F^{(1 + E) / D}"
      ]
    },
    {
      "cell_type": "markdown",
      "metadata": {
        "id": "q5ItPMaSgo-o",
        "colab_type": "text"
      },
      "source": [
        "$\\eta_{I}$ is the initial learning rate\n",
        "\n",
        "F is the factor value controlling the rate in which the learning date drops\n",
        "\n",
        "D is the “Drop every” epochs value\n",
        "\n",
        "E is the current epoch."
      ]
    },
    {
      "cell_type": "markdown",
      "metadata": {
        "id": "404zI7t2xxp2",
        "colab_type": "text"
      },
      "source": [
        "implementation"
      ]
    },
    {
      "cell_type": "code",
      "metadata": {
        "id": "ARpsF3xufVlX",
        "colab_type": "code",
        "colab": {}
      },
      "source": [
        "class steplearningratescheduler():\n",
        "  def __init__ (self, eta_start=0.01,factor=0.25, drop=10 ):\n",
        "    self.eta_start = eta_start\n",
        "    self.factor = factor\n",
        "    self.drop = drop\n",
        "  \n",
        "  def __call__ (self,epoch):\n",
        "    step = np.floor((1 + epoch) / self.drop)\n",
        "    eta = self.eta_start * (self.factor ** step)\n",
        "\n",
        "    return float(eta)\n",
        "\n",
        "\n"
      ],
      "execution_count": null,
      "outputs": []
    },
    {
      "cell_type": "code",
      "metadata": {
        "id": "5JNSOULw3VfT",
        "colab_type": "code",
        "colab": {}
      },
      "source": [
        "num_epochs = 50\n",
        "scheduler = steplearningratescheduler()\n",
        "plt.plot(np.arange(num_epochs),[scheduler(i) for i in range(num_epochs)])"
      ],
      "execution_count": null,
      "outputs": []
    },
    {
      "cell_type": "code",
      "metadata": {
        "id": "H6SRcl2O3mib",
        "colab_type": "code",
        "colab": {}
      },
      "source": [
        ""
      ],
      "execution_count": null,
      "outputs": []
    }
  ]
}